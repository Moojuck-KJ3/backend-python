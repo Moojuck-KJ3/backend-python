{
 "cells": [
  {
   "cell_type": "code",
   "execution_count": 1,
   "id": "c59a0702-cef7-4d8c-bfa3-66e94626604b",
   "metadata": {},
   "outputs": [],
   "source": [
    "import gensim\n",
    "import pandas as pd"
   ]
  },
  {
   "cell_type": "code",
   "execution_count": 2,
   "id": "687437b1-3d7a-472c-b626-e4f3f1b3f6ef",
   "metadata": {},
   "outputs": [],
   "source": [
    "df = pd.read_csv(\"restaurant_data2.csv\")"
   ]
  },
  {
   "cell_type": "code",
   "execution_count": 3,
   "id": "83db9479-2422-4606-9c4c-82c6924f0715",
   "metadata": {},
   "outputs": [],
   "source": [
    "review_text = df.reviews.apply(gensim.utils.simple_preprocess)"
   ]
  },
  {
   "cell_type": "code",
   "execution_count": 4,
   "id": "c43ad8d4-8b9a-4efa-be69-20eba584474b",
   "metadata": {},
   "outputs": [],
   "source": [
    "model = gensim.models.Word2Vec(\n",
    "    window=7,\n",
    "    min_count=1,\n",
    "    workers=4\n",
    ")"
   ]
  },
  {
   "cell_type": "code",
   "execution_count": 5,
   "id": "9c77d798-76df-483e-b96c-78f09b6d5590",
   "metadata": {},
   "outputs": [],
   "source": [
    "model.build_vocab(review_text, progress_per=1000)"
   ]
  },
  {
   "cell_type": "code",
   "execution_count": 6,
   "id": "bf3a00e7-a61b-43b0-9df6-527faf3f3a1f",
   "metadata": {},
   "outputs": [
    {
     "data": {
      "text/plain": [
       "5"
      ]
     },
     "execution_count": 6,
     "metadata": {},
     "output_type": "execute_result"
    }
   ],
   "source": [
    "model.epochs"
   ]
  },
  {
   "cell_type": "code",
   "execution_count": 7,
   "id": "98751374-86ef-42ce-bd44-544ead1f0fad",
   "metadata": {},
   "outputs": [
    {
     "data": {
      "text/plain": [
       "5964"
      ]
     },
     "execution_count": 7,
     "metadata": {},
     "output_type": "execute_result"
    }
   ],
   "source": [
    "model.corpus_count"
   ]
  },
  {
   "cell_type": "code",
   "execution_count": 8,
   "id": "1e5016cd-1d76-4da4-a7fa-32c250530e83",
   "metadata": {},
   "outputs": [
    {
     "data": {
      "text/plain": [
       "(16760897, 17406140)"
      ]
     },
     "execution_count": 8,
     "metadata": {},
     "output_type": "execute_result"
    }
   ],
   "source": [
    "model.train(review_text, total_examples=model.corpus_count, epochs=model.epochs)"
   ]
  },
  {
   "cell_type": "code",
   "execution_count": 9,
   "id": "5b7a90c0-b51c-4e23-9315-018631dafa68",
   "metadata": {},
   "outputs": [],
   "source": [
    "model.save(\"word2vec-from-reviews2.model\")"
   ]
  },
  {
   "cell_type": "code",
   "execution_count": 10,
   "id": "bae2285a-50f0-463c-8619-d078462e0705",
   "metadata": {},
   "outputs": [
    {
     "data": {
      "text/plain": [
       "0.9432056"
      ]
     },
     "execution_count": 10,
     "metadata": {},
     "output_type": "execute_result"
    }
   ],
   "source": [
    "model.wv.similarity(w1=\"조용한\", w2=\"차분한\")"
   ]
  },
  {
   "cell_type": "code",
   "execution_count": 11,
   "id": "7986367b-32da-49e5-9b47-64fd72462cc4",
   "metadata": {},
   "outputs": [
    {
     "data": {
      "text/plain": [
       "0.7356134"
      ]
     },
     "execution_count": 11,
     "metadata": {},
     "output_type": "execute_result"
    }
   ],
   "source": [
    "model.wv.similarity(w1=\"조용한\", w2=\"북적거리는\")"
   ]
  },
  {
   "cell_type": "code",
   "execution_count": 12,
   "id": "5344fec3-a5e4-488d-95ec-50b55a296356",
   "metadata": {},
   "outputs": [
    {
     "data": {
      "text/plain": [
       "0.9265485"
      ]
     },
     "execution_count": 12,
     "metadata": {},
     "output_type": "execute_result"
    }
   ],
   "source": [
    "model.wv.similarity(w1=\"우아한\", w2=\"캐주얼한\")"
   ]
  },
  {
   "cell_type": "code",
   "execution_count": 13,
   "id": "b5babaa8-9ec1-41b6-8e24-70bee43a67aa",
   "metadata": {},
   "outputs": [
    {
     "data": {
      "text/plain": [
       "0.82853144"
      ]
     },
     "execution_count": 13,
     "metadata": {},
     "output_type": "execute_result"
    }
   ],
   "source": [
    "model.wv.similarity(w1=\"화려한\", w2=\"소박한\")"
   ]
  },
  {
   "cell_type": "code",
   "execution_count": 14,
   "id": "80b37ed2-035e-4fdc-bfa7-e233f2717d49",
   "metadata": {},
   "outputs": [
    {
     "data": {
      "text/plain": [
       "0.8745453"
      ]
     },
     "execution_count": 14,
     "metadata": {},
     "output_type": "execute_result"
    }
   ],
   "source": [
    "model.wv.similarity(w1=\"우아한\", w2=\"앤틱한\")"
   ]
  },
  {
   "cell_type": "code",
   "execution_count": 15,
   "id": "7d9d0365-ac26-40a3-ae10-a8d8397fa2ba",
   "metadata": {},
   "outputs": [
    {
     "data": {
      "text/plain": [
       "0.34316114"
      ]
     },
     "execution_count": 15,
     "metadata": {},
     "output_type": "execute_result"
    }
   ],
   "source": [
    "model.wv.similarity(w1=\"고급스러운\", w2=\"서민적인\")"
   ]
  },
  {
   "cell_type": "code",
   "execution_count": null,
   "id": "68b21c25-1289-4f6d-8b07-066f79a459b6",
   "metadata": {},
   "outputs": [],
   "source": []
  }
 ],
 "metadata": {
  "kernelspec": {
   "display_name": "Python 3 (ipykernel)",
   "language": "python",
   "name": "python3"
  },
  "language_info": {
   "codemirror_mode": {
    "name": "ipython",
    "version": 3
   },
   "file_extension": ".py",
   "mimetype": "text/x-python",
   "name": "python",
   "nbconvert_exporter": "python",
   "pygments_lexer": "ipython3",
   "version": "3.10.5"
  }
 },
 "nbformat": 4,
 "nbformat_minor": 5
}
